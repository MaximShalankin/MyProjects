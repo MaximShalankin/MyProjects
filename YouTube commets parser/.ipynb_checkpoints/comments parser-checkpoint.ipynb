{
 "cells": [
  {
   "cell_type": "markdown",
   "metadata": {},
   "source": [
    "Here we'll use YouTube API to load comments for NLP porposes"
   ]
  },
  {
   "cell_type": "code",
   "execution_count": null,
   "metadata": {},
   "outputs": [],
   "source": [
    "# Common libraries\n",
    "import os\n",
    "import json\n",
    "import pandas as pd\n",
    "from getpass import getpass\n",
    "import datetime\n",
    "from tqdm.notebook import tqdm\n",
    "\n",
    "# YouTube API libraries\n",
    "from googleapiclient.discovery import build\n",
    "from google_auth_oauthlib.flow import InstalledAppFlow, Flow"
   ]
  },
  {
   "cell_type": "code",
   "execution_count": null,
   "metadata": {},
   "outputs": [],
   "source": [
    "# secret file - file with information about your YouTube API session\n",
    "CLIENT_SECRETS_FILE = getpass(prompt='Enter the path to your secret file: ') #This is the path to your JSON file"
   ]
  },
  {
   "cell_type": "code",
   "execution_count": null,
   "metadata": {},
   "outputs": [],
   "source": [
    "# This OAuth 2.0 access scope allows for full read/write access to the\n",
    "# authenticated user's account and requires requests to use an SSL connection.\n",
    "SCOPES = ['https://www.googleapis.com/auth/youtube.force-ssl']\n",
    "API_SERVICE_NAME = 'youtube'\n",
    "API_VERSION = 'v3'\n",
    "\n",
    "def get_authenticated_service():\n",
    "    flow = InstalledAppFlow.from_client_secrets_file(CLIENT_SECRETS_FILE, SCOPES)\n",
    "    credentials = flow.run_console()\n",
    "    return build(API_SERVICE_NAME, API_VERSION, credentials = credentials)\n",
    "\n",
    "os.environ['OAUTHLIB_INSECURE_TRANSPORT'] = '1'\n",
    "\n",
    "service = get_authenticated_service()"
   ]
  },
  {
   "cell_type": "code",
   "execution_count": null,
   "metadata": {},
   "outputs": [],
   "source": [
    "def get_list(prompt='Enter the path to your video ids file: '):\n",
    "    \"\"\"\n",
    "    get list from json\n",
    "    input:  path + filename\n",
    "    output: list    \n",
    "    \"\"\"\n",
    "    path = getpass(prompt=prompt)\n",
    "    if os.path.exists(path):\n",
    "        with open(path, 'r') as file:\n",
    "            video_ids = json.loads(file.read())\n",
    "        return video_ids, path\n",
    "                  \n",
    "    else:\n",
    "        return list(), path\n",
    "    \n",
    "    \n",
    "def save_list(video_ids, path):\n",
    "    \"\"\"\n",
    "    save new list to file \n",
    "    \n",
    "    \"\"\"    \n",
    "    with open(path, 'w') as file:\n",
    "        file.write(json.dumps(video_ids))"
   ]
  },
  {
   "cell_type": "code",
   "execution_count": null,
   "metadata": {},
   "outputs": [],
   "source": [
    "def get_comments(n_videos=50):\n",
    "    \n",
    "    \"\"\"\n",
    "    allows to get comments on video ids which are not in list\n",
    "    \"\"\"\n",
    "    \n",
    "    video_processed, path_video_processed = get_list()\n",
    "    video_processed = set(video_processed)\n",
    "    df_all = pd.DataFrame() # dataframe for comments and other information\n",
    "    path_to_data = getpass(prompt='Enter the path to data folder: ')\n",
    "    \n",
    "    request = service.videos().list( # API request\n",
    "        part=\"snippet,id\",\n",
    "        chart=\"mostPopular\", # get most popular videos \n",
    "        regionCode=\"RU\", \n",
    "        maxResults=n_videos\n",
    "    )\n",
    "    executed_result = request.execute()\n",
    "    \n",
    "    # here we get information we needed\n",
    "    for video_data in tqdm(executed_result['items']):\n",
    "        video_id = video_data['id']\n",
    "\n",
    "        # need to check is this video already processed\n",
    "        if video_id in video_processed:\n",
    "            continue\n",
    "            \n",
    "        else:\n",
    "            video_channel = video_data['snippet']['channelTitle']\n",
    "            try:\n",
    "                response = service.commentThreads().list(\n",
    "                    part = 'snippet',\n",
    "                    videoId = video_id,\n",
    "                    maxResults = 100, # Only take top 100 comments (max)\n",
    "                    order = 'relevance', #... ranked on relevance\n",
    "                    textFormat = 'plainText',\n",
    "                    ).execute()\n",
    "            except:\n",
    "                continue\n",
    "            \n",
    "            # arrays to save the info \n",
    "            arr_text = []\n",
    "            arr_likes = []\n",
    "            arr_replies = []\n",
    "\n",
    "            for comment in response['items']: # for every comment get the info\n",
    "                arr_text.append(comment['snippet']['topLevelComment']['snippet']['textOriginal'])\n",
    "                arr_likes.append(comment['snippet']['topLevelComment']['snippet']['likeCount'])\n",
    "                arr_replies.append(comment['snippet']['totalReplyCount'])\n",
    "                \n",
    "            df_video = pd.DataFrame()\n",
    "            df_video['text'] = arr_text\n",
    "            df_video['likes'] = arr_likes\n",
    "            df_video['replies'] = arr_replies\n",
    "            df_video['video_id'] = video_id\n",
    "            df_video['channel_name'] = video_channel\n",
    "            \n",
    "            df_all = pd.concat((df_all, df_video), axis=0) # concat one video to other\n",
    "            \n",
    "            video_processed.add(video_id)\n",
    "    \n",
    "    save_list(list(video_processed), path_video_processed)\n",
    "    ctime = datetime.datetime.now() # for correct naming porpuses\n",
    "    df_all.to_csv(path_to_data + '/' \n",
    "                   + str(ctime.date()) + '_' + str(ctime.hour) + '.csv', index=False)"
   ]
  },
  {
   "cell_type": "code",
   "execution_count": null,
   "metadata": {},
   "outputs": [],
   "source": [
    "# get_comments()"
   ]
  },
  {
   "cell_type": "code",
   "execution_count": null,
   "metadata": {},
   "outputs": [],
   "source": []
  }
 ],
 "metadata": {
  "kernelspec": {
   "display_name": "Python 3",
   "language": "python",
   "name": "python3"
  },
  "language_info": {
   "codemirror_mode": {
    "name": "ipython",
    "version": 3
   },
   "file_extension": ".py",
   "mimetype": "text/x-python",
   "name": "python",
   "nbconvert_exporter": "python",
   "pygments_lexer": "ipython3",
   "version": "3.7.3"
  }
 },
 "nbformat": 4,
 "nbformat_minor": 2
}
