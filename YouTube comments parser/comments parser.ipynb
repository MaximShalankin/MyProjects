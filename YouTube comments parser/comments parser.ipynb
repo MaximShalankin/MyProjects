{
 "cells": [
  {
   "cell_type": "markdown",
   "metadata": {},
   "source": [
    "Here we'll use YouTube API to load comments for NLP porposes"
   ]
  },
  {
   "cell_type": "code",
   "execution_count": null,
   "metadata": {},
   "outputs": [],
   "source": [
    "%autosave 60\n",
    "# Common libraries\n",
    "import os\n",
    "import json\n",
    "import pandas as pd\n",
    "from getpass import getpass\n",
    "import datetime\n",
    "from tqdm import tqdm\n",
    "# YouTube API libraries\n",
    "from googleapiclient.discovery import build\n",
    "from google_auth_oauthlib.flow import InstalledAppFlow, Flow"
   ]
  },
  {
   "cell_type": "code",
   "execution_count": null,
   "metadata": {},
   "outputs": [],
   "source": [
    "# secret file - file with information about your YouTube API session\n",
    "CLIENT_SECRETS_FILE = getpass(prompt='Enter the path to your secret file: ') #This is the path to your JSON file"
   ]
  },
  {
   "cell_type": "code",
   "execution_count": null,
   "metadata": {},
   "outputs": [],
   "source": [
    "# This OAuth 2.0 access scope allows for full read/write access to the\n",
    "# authenticated user's account and requires requests to use an SSL connection.\n",
    "SCOPES = ['https://www.googleapis.com/auth/youtube.force-ssl']\n",
    "API_SERVICE_NAME = 'youtube'\n",
    "API_VERSION = 'v3'\n",
    "\n",
    "def get_authenticated_service():\n",
    "    flow = InstalledAppFlow.from_client_secrets_file(CLIENT_SECRETS_FILE, SCOPES)\n",
    "    credentials = flow.run_console()\n",
    "    return build(API_SERVICE_NAME, API_VERSION, credentials = credentials)\n",
    "\n",
    "os.environ['OAUTHLIB_INSECURE_TRANSPORT'] = '1'\n",
    "\n",
    "service = get_authenticated_service()"
   ]
  },
  {
   "cell_type": "code",
   "execution_count": null,
   "metadata": {},
   "outputs": [],
   "source": [
    "def get_list(path=None):\n",
    "    \"\"\"\n",
    "    get list from json\n",
    "    input:  path + filename\n",
    "    output: list    \n",
    "    \"\"\"\n",
    "    if path is None:\n",
    "        prompt='Enter the path to your video ids file: '\n",
    "        path = getpass(prompt=prompt)\n",
    "    else: \n",
    "        pass\n",
    "    if os.path.exists(path):\n",
    "        with open(path, 'r') as file:\n",
    "            video_ids = json.loads(file.read())\n",
    "        return video_ids, path\n",
    "                  \n",
    "    else:\n",
    "        return list(), path\n",
    "    \n",
    "    \n",
    "def save_list(video_ids, path):\n",
    "    \"\"\"\n",
    "    save new list to file \n",
    "    \n",
    "    \"\"\"    \n",
    "    with open(path, 'w') as file:\n",
    "        file.write(json.dumps(video_ids))"
   ]
  },
  {
   "cell_type": "code",
   "execution_count": null,
   "metadata": {},
   "outputs": [],
   "source": [
    "def get_comments(n_videos=50):\n",
    "    \n",
    "    \"\"\"\n",
    "    allows to get comments on video ids which are not in list\n",
    "    \"\"\"\n",
    "    \n",
    "    video_processed, path_video_processed = get_list()\n",
    "    video_processed = set(video_processed)\n",
    "    df_all = pd.DataFrame() # dataframe for comments and other information\n",
    "    path_to_data = getpass(prompt='Enter the path to data folder: ')\n",
    "    \n",
    "    request = service.videos().list( # API request\n",
    "        part=\"snippet,id\",\n",
    "        chart=\"mostPopular\", # get most popular videos \n",
    "        regionCode=\"RU\", \n",
    "        maxResults=n_videos\n",
    "    )\n",
    "    executed_result = request.execute()\n",
    "    \n",
    "    # here we get information we needed\n",
    "    for video_data in tqdm(executed_result['items'], position=0, leave=True):\n",
    "        video_id = video_data['id']\n",
    "\n",
    "        # need to check is this video already processed\n",
    "        if video_id in video_processed:\n",
    "            continue\n",
    "            \n",
    "        else:\n",
    "            video_channel = video_data['snippet']['channelTitle']\n",
    "            try:\n",
    "                response = service.commentThreads().list(\n",
    "                    part = 'snippet',\n",
    "                    videoId = video_id,\n",
    "                    maxResults = 100, # Only take top 100 comments (max)\n",
    "                    order = 'relevance', #... ranked on relevance\n",
    "                    textFormat = 'plainText',\n",
    "                    ).execute()\n",
    "            except:\n",
    "                continue\n",
    "            \n",
    "            # arrays to save the info \n",
    "            arr_text = []\n",
    "            arr_likes = []\n",
    "            arr_replies = []\n",
    "\n",
    "            for comment in response['items']: # for every comment get the info\n",
    "                arr_text.append(comment['snippet']['topLevelComment']['snippet']['textOriginal'])\n",
    "                arr_likes.append(comment['snippet']['topLevelComment']['snippet']['likeCount'])\n",
    "                arr_replies.append(comment['snippet']['totalReplyCount'])\n",
    "                \n",
    "            df_video = pd.DataFrame()\n",
    "            df_video['text'] = arr_text\n",
    "            df_video['likes'] = arr_likes\n",
    "            df_video['replies'] = arr_replies\n",
    "            df_video['video_id'] = video_id\n",
    "            df_video['channel_name'] = video_channel\n",
    "            \n",
    "            df_all = pd.concat((df_all, df_video), axis=0) # concat one video to other\n",
    "            \n",
    "            video_processed.add(video_id)\n",
    "    \n",
    "    save_list(list(video_processed), path_video_processed)\n",
    "    ctime = datetime.datetime.now() # for correct naming porpuses\n",
    "    df_all.to_csv(path_to_data + '/' \n",
    "                   + str(ctime.date()) + '_' + str(ctime.hour) + '.csv', index=False)"
   ]
  },
  {
   "cell_type": "code",
   "execution_count": null,
   "metadata": {},
   "outputs": [],
   "source": [
    "get_comments()"
   ]
  },
  {
   "cell_type": "code",
   "execution_count": null,
   "metadata": {},
   "outputs": [],
   "source": [
    "df = pd.read_csv('D:/Storage/Данные/Комментарии YouTube/Комментарии/2020-07-22_10.csv')"
   ]
  },
  {
   "cell_type": "code",
   "execution_count": null,
   "metadata": {},
   "outputs": [],
   "source": [
    "print(df.shape)\n",
    "display(df.sample(5))\n",
    "print(df['text'].sample(1).values)\n",
    "print('Уникальных видео обработано: %d' % df['video_id'].nunique())"
   ]
  },
  {
   "cell_type": "markdown",
   "metadata": {},
   "source": [
    "## Check how many are already downloaded"
   ]
  },
  {
   "cell_type": "code",
   "execution_count": null,
   "metadata": {},
   "outputs": [],
   "source": [
    "import os\n",
    "from tqdm import tqdm"
   ]
  },
  {
   "cell_type": "code",
   "execution_count": null,
   "metadata": {},
   "outputs": [],
   "source": [
    "comments_total = 0\n",
    "video_total = 0 \n",
    "path = 'D:/Storage/Данные/Комментарии YouTube/Комментарии/'\n",
    "for file in tqdm(os.listdir(path)):\n",
    "    df_temp = pd.read_csv(path + file, usecols=['video_id'])\n",
    "    video_total += df_temp.nunique()\n",
    "    comments_total += df_temp.shape[0]\n",
    "    \n",
    "print('Всего комментариев получено: %d' % comments_total)\n",
    "print('Всего видео обработано: %d' % video_total)"
   ]
  },
  {
   "cell_type": "code",
   "execution_count": null,
   "metadata": {},
   "outputs": [],
   "source": []
  },
  {
   "cell_type": "markdown",
   "metadata": {},
   "source": [
    "# Load subtitles for already saved videos"
   ]
  },
  {
   "cell_type": "code",
   "execution_count": null,
   "metadata": {},
   "outputs": [],
   "source": [
    "import sys\n",
    "import os\n",
    "import time\n",
    "\n",
    "sys.path.append('D:\\Storage\\Data Science\\GIT\\youtube-transcript-api')\n",
    "from youtube_transcript_api import YouTubeTranscriptApi"
   ]
  },
  {
   "cell_type": "code",
   "execution_count": null,
   "metadata": {},
   "outputs": [],
   "source": [
    "path = 'D:/Storage/Данные/Комментарии YouTube/Комментарии/'\n",
    "path_subtitles = 'D:/Storage/Данные/Комментарии YouTube/Субтитры к обработанным видео/'\n",
    "path_to_loaded_videos = 'D:/Storage/Данные/Комментарии YouTube/Вспомогательное/video_processed_subs.txt'"
   ]
  },
  {
   "cell_type": "code",
   "execution_count": null,
   "metadata": {},
   "outputs": [],
   "source": [
    "video_processed, path_video_processed = get_list(path_to_loaded_videos)\n",
    "video_processed = set(video_processed)\n",
    "\n",
    "\n",
    "for file in tqdm(os.listdir(path), position=0, leave=True):\n",
    "    \n",
    "    filename = file.split('.')[0] # Name for saving subtitles json\n",
    "    current_video_ids = pd.read_csv(path + file, usecols=['video_id'])['video_id'].values\n",
    "    not_loaded_ids = set(current_video_ids) - video_processed # video ids for loading subtitles\n",
    "    \n",
    "    if not_loaded_ids: # If there are any video is not already loaded\n",
    "        \n",
    "        video_processed = video_processed.union(not_loaded_ids)\n",
    "        video_subtitles = YouTubeTranscriptApi.get_transcripts(list(not_loaded_ids), languages=['ru'], \n",
    "                                                               continue_after_error=True)\n",
    "        \n",
    "        save_list(video_subtitles, path_subtitles + filename + '.json') # Saving all gained subtitles\n",
    "        time.sleep(1) # For antibot system?\n",
    "\n",
    "save_list(list(video_processed), path_video_processed) # Save video ids we are processed"
   ]
  },
  {
   "cell_type": "markdown",
   "metadata": {},
   "source": [
    "##  Check loaded video`s subtitles"
   ]
  },
  {
   "cell_type": "code",
   "execution_count": null,
   "metadata": {},
   "outputs": [],
   "source": [
    "total_video_subtitles = 0\n",
    "for file in tqdm(os.listdir(path_subtitles), position=0, leave=True):\n",
    "    path = 'D:/Storage/Данные/Комментарии YouTube/Субтитры к обработанным видео/' + file\n",
    "    q, path = get_list(path)\n",
    "    total_video_subtitles += len(q[0].keys())\n",
    "    \n",
    "print('Total videos with subtitles: %d' % total_video_subtitles)"
   ]
  },
  {
   "cell_type": "code",
   "execution_count": null,
   "metadata": {},
   "outputs": [],
   "source": []
  }
 ],
 "metadata": {
  "kernelspec": {
   "display_name": "Python 3",
   "language": "python",
   "name": "python3"
  },
  "language_info": {
   "codemirror_mode": {
    "name": "ipython",
    "version": 3
   },
   "file_extension": ".py",
   "mimetype": "text/x-python",
   "name": "python",
   "nbconvert_exporter": "python",
   "pygments_lexer": "ipython3",
   "version": "3.7.3"
  }
 },
 "nbformat": 4,
 "nbformat_minor": 2
}
