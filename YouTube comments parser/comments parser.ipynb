{
 "cells": [
  {
   "cell_type": "markdown",
   "metadata": {},
   "source": [
    "Here we'll use YouTube API to load comments for NLP porposes"
   ]
  },
  {
   "cell_type": "code",
   "execution_count": 1,
   "metadata": {},
   "outputs": [],
   "source": [
    "# Common libraries\n",
    "import os\n",
    "import json\n",
    "import pandas as pd\n",
    "from getpass import getpass\n",
    "import datetime\n",
    "from tqdm.notebook import tqdm\n",
    "\n",
    "# YouTube API libraries\n",
    "from googleapiclient.discovery import build\n",
    "from google_auth_oauthlib.flow import InstalledAppFlow, Flow"
   ]
  },
  {
   "cell_type": "code",
   "execution_count": 2,
   "metadata": {},
   "outputs": [
    {
     "name": "stdout",
     "output_type": "stream",
     "text": [
      "Enter the path to your secret file: ········\n"
     ]
    }
   ],
   "source": [
    "# secret file - file with information about your YouTube API session\n",
    "CLIENT_SECRETS_FILE = getpass(prompt='Enter the path to your secret file: ') #This is the path to your JSON file"
   ]
  },
  {
   "cell_type": "code",
   "execution_count": 3,
   "metadata": {},
   "outputs": [
    {
     "name": "stdout",
     "output_type": "stream",
     "text": [
      "Please visit this URL to authorize this application: https://accounts.google.com/o/oauth2/auth?response_type=code&client_id=552091031714-nuc0n8215tr9h102b7nsd05d0bm9us8c.apps.googleusercontent.com&redirect_uri=urn%3Aietf%3Awg%3Aoauth%3A2.0%3Aoob&scope=https%3A%2F%2Fwww.googleapis.com%2Fauth%2Fyoutube.force-ssl&state=7Ovlhw49CbnGuKTkIOzfww9SEdX4oN&prompt=consent&access_type=offline\n",
      "Enter the authorization code: 4/0AFwjOWkMVaH4JvP4Bwc9FTuGNt2UOF5XlEm3CTiyC3DvcGA5LiPqq4\n"
     ]
    }
   ],
   "source": [
    "# This OAuth 2.0 access scope allows for full read/write access to the\n",
    "# authenticated user's account and requires requests to use an SSL connection.\n",
    "SCOPES = ['https://www.googleapis.com/auth/youtube.force-ssl']\n",
    "API_SERVICE_NAME = 'youtube'\n",
    "API_VERSION = 'v3'\n",
    "\n",
    "def get_authenticated_service():\n",
    "    flow = InstalledAppFlow.from_client_secrets_file(CLIENT_SECRETS_FILE, SCOPES)\n",
    "    credentials = flow.run_console()\n",
    "    return build(API_SERVICE_NAME, API_VERSION, credentials = credentials)\n",
    "\n",
    "os.environ['OAUTHLIB_INSECURE_TRANSPORT'] = '1'\n",
    "\n",
    "service = get_authenticated_service()"
   ]
  },
  {
   "cell_type": "code",
   "execution_count": 4,
   "metadata": {},
   "outputs": [],
   "source": [
    "def get_list(prompt='Enter the path to your video ids file: '):\n",
    "    \"\"\"\n",
    "    get list from json\n",
    "    input:  path + filename\n",
    "    output: list    \n",
    "    \"\"\"\n",
    "    path = getpass(prompt=prompt)\n",
    "    if os.path.exists(path):\n",
    "        with open(path, 'r') as file:\n",
    "            video_ids = json.loads(file.read())\n",
    "        return video_ids, path\n",
    "                  \n",
    "    else:\n",
    "        return list(), path\n",
    "    \n",
    "    \n",
    "def save_list(video_ids, path):\n",
    "    \"\"\"\n",
    "    save new list to file \n",
    "    \n",
    "    \"\"\"    \n",
    "    with open(path, 'w') as file:\n",
    "        file.write(json.dumps(video_ids))"
   ]
  },
  {
   "cell_type": "code",
   "execution_count": 5,
   "metadata": {},
   "outputs": [],
   "source": [
    "def get_comments(n_videos=50):\n",
    "    \n",
    "    \"\"\"\n",
    "    allows to get comments on video ids which are not in list\n",
    "    \"\"\"\n",
    "    \n",
    "    video_processed, path_video_processed = get_list()\n",
    "    video_processed = set(video_processed)\n",
    "    df_all = pd.DataFrame() # dataframe for comments and other information\n",
    "    path_to_data = getpass(prompt='Enter the path to data folder: ')\n",
    "    \n",
    "    request = service.videos().list( # API request\n",
    "        part=\"snippet,id\",\n",
    "        chart=\"mostPopular\", # get most popular videos \n",
    "        regionCode=\"RU\", \n",
    "        maxResults=n_videos\n",
    "    )\n",
    "    executed_result = request.execute()\n",
    "    \n",
    "    # here we get information we needed\n",
    "    for video_data in tqdm(executed_result['items']):\n",
    "        video_id = video_data['id']\n",
    "\n",
    "        # need to check is this video already processed\n",
    "        if video_id in video_processed:\n",
    "            continue\n",
    "            \n",
    "        else:\n",
    "            video_channel = video_data['snippet']['channelTitle']\n",
    "            try:\n",
    "                response = service.commentThreads().list(\n",
    "                    part = 'snippet',\n",
    "                    videoId = video_id,\n",
    "                    maxResults = 100, # Only take top 100 comments (max)\n",
    "                    order = 'relevance', #... ranked on relevance\n",
    "                    textFormat = 'plainText',\n",
    "                    ).execute()\n",
    "            except:\n",
    "                continue\n",
    "            \n",
    "            # arrays to save the info \n",
    "            arr_text = []\n",
    "            arr_likes = []\n",
    "            arr_replies = []\n",
    "\n",
    "            for comment in response['items']: # for every comment get the info\n",
    "                arr_text.append(comment['snippet']['topLevelComment']['snippet']['textOriginal'])\n",
    "                arr_likes.append(comment['snippet']['topLevelComment']['snippet']['likeCount'])\n",
    "                arr_replies.append(comment['snippet']['totalReplyCount'])\n",
    "                \n",
    "            df_video = pd.DataFrame()\n",
    "            df_video['text'] = arr_text\n",
    "            df_video['likes'] = arr_likes\n",
    "            df_video['replies'] = arr_replies\n",
    "            df_video['video_id'] = video_id\n",
    "            df_video['channel_name'] = video_channel\n",
    "            \n",
    "            df_all = pd.concat((df_all, df_video), axis=0) # concat one video to other\n",
    "            \n",
    "            video_processed.add(video_id)\n",
    "    \n",
    "    save_list(list(video_processed), path_video_processed)\n",
    "    ctime = datetime.datetime.now() # for correct naming porpuses\n",
    "    df_all.to_csv(path_to_data + '/' \n",
    "                   + str(ctime.date()) + '_' + str(ctime.hour) + '.csv', index=False)"
   ]
  },
  {
   "cell_type": "code",
   "execution_count": 6,
   "metadata": {},
   "outputs": [
    {
     "name": "stdout",
     "output_type": "stream",
     "text": [
      "Enter the path to your video ids file: ········\n",
      "Enter the path to data folder: ········\n"
     ]
    },
    {
     "data": {
      "application/vnd.jupyter.widget-view+json": {
       "model_id": "a5744386ea9745ca88ba40fe00390f18",
       "version_major": 2,
       "version_minor": 0
      },
      "text/plain": [
       "HBox(children=(IntProgress(value=0, max=50), HTML(value='')))"
      ]
     },
     "metadata": {},
     "output_type": "display_data"
    },
    {
     "name": "stdout",
     "output_type": "stream",
     "text": [
      "\n"
     ]
    }
   ],
   "source": [
    "get_comments()"
   ]
  },
  {
   "cell_type": "code",
   "execution_count": 7,
   "metadata": {},
   "outputs": [],
   "source": [
    "df = pd.read_csv('D:/Storage/Данные/Комментарии YouTube/Комментарии/2020-05-25_20.csv')"
   ]
  },
  {
   "cell_type": "code",
   "execution_count": 14,
   "metadata": {},
   "outputs": [
    {
     "name": "stdout",
     "output_type": "stream",
     "text": [
      "(3790, 5)\n"
     ]
    },
    {
     "data": {
      "text/html": [
       "<div>\n",
       "<style scoped>\n",
       "    .dataframe tbody tr th:only-of-type {\n",
       "        vertical-align: middle;\n",
       "    }\n",
       "\n",
       "    .dataframe tbody tr th {\n",
       "        vertical-align: top;\n",
       "    }\n",
       "\n",
       "    .dataframe thead th {\n",
       "        text-align: right;\n",
       "    }\n",
       "</style>\n",
       "<table border=\"1\" class=\"dataframe\">\n",
       "  <thead>\n",
       "    <tr style=\"text-align: right;\">\n",
       "      <th></th>\n",
       "      <th>text</th>\n",
       "      <th>likes</th>\n",
       "      <th>replies</th>\n",
       "      <th>video_id</th>\n",
       "      <th>channel_name</th>\n",
       "    </tr>\n",
       "  </thead>\n",
       "  <tbody>\n",
       "    <tr>\n",
       "      <th>347</th>\n",
       "      <td>Тебе жалко брата тим тима?\\nЛайк-Да✔️\\nИгнор-Н...</td>\n",
       "      <td>0</td>\n",
       "      <td>0</td>\n",
       "      <td>wQeb53fyMZc</td>\n",
       "      <td>Tим Тим</td>\n",
       "    </tr>\n",
       "    <tr>\n",
       "      <th>1383</th>\n",
       "      <td>Спасибо огромное, от души, спасибо огромнейшее...</td>\n",
       "      <td>0</td>\n",
       "      <td>0</td>\n",
       "      <td>ez57UvmVd3c</td>\n",
       "      <td>Супер Сериал</td>\n",
       "    </tr>\n",
       "    <tr>\n",
       "      <th>91</th>\n",
       "      <td>Желаю твою семью тебя здоровья и счастья 🤲</td>\n",
       "      <td>1</td>\n",
       "      <td>0</td>\n",
       "      <td>EoL2iuefmA8</td>\n",
       "      <td>Чердак</td>\n",
       "    </tr>\n",
       "    <tr>\n",
       "      <th>3037</th>\n",
       "      <td>Демура Заставляет думать тех кто готов его слу...</td>\n",
       "      <td>0</td>\n",
       "      <td>0</td>\n",
       "      <td>HBNc4A-nC50</td>\n",
       "      <td>Нейромир-ТВ</td>\n",
       "    </tr>\n",
       "    <tr>\n",
       "      <th>3303</th>\n",
       "      <td>Красивые😍,но длинные 😨</td>\n",
       "      <td>9</td>\n",
       "      <td>0</td>\n",
       "      <td>I_gDFjPM_gY</td>\n",
       "      <td>Татьяна Бугрий</td>\n",
       "    </tr>\n",
       "  </tbody>\n",
       "</table>\n",
       "</div>"
      ],
      "text/plain": [
       "                                                   text  likes  replies  \\\n",
       "347   Тебе жалко брата тим тима?\\nЛайк-Да✔️\\nИгнор-Н...      0        0   \n",
       "1383  Спасибо огромное, от души, спасибо огромнейшее...      0        0   \n",
       "91           Желаю твою семью тебя здоровья и счастья 🤲      1        0   \n",
       "3037  Демура Заставляет думать тех кто готов его слу...      0        0   \n",
       "3303                             Красивые😍,но длинные 😨      9        0   \n",
       "\n",
       "         video_id    channel_name  \n",
       "347   wQeb53fyMZc         Tим Тим  \n",
       "1383  ez57UvmVd3c    Супер Сериал  \n",
       "91    EoL2iuefmA8          Чердак  \n",
       "3037  HBNc4A-nC50     Нейромир-ТВ  \n",
       "3303  I_gDFjPM_gY  Татьяна Бугрий  "
      ]
     },
     "metadata": {},
     "output_type": "display_data"
    },
    {
     "name": "stdout",
     "output_type": "stream",
     "text": [
      "['Саня Жирный, гнилой человек, сразу было видно']\n",
      "Уникальных видео обработано: 38\n"
     ]
    }
   ],
   "source": [
    "print(df.shape)\n",
    "display(df.sample(5))\n",
    "print(df['text'].sample(1).values)\n",
    "print('Уникальных видео обработано: %d' % df['video_id'].nunique())"
   ]
  },
  {
   "cell_type": "code",
   "execution_count": 15,
   "metadata": {},
   "outputs": [
    {
     "name": "stdout",
     "output_type": "stream",
     "text": [
      "Enter the path to your video ids file: ········\n"
     ]
    }
   ],
   "source": [
    "li, pa = get_list()"
   ]
  },
  {
   "cell_type": "code",
   "execution_count": 16,
   "metadata": {},
   "outputs": [
    {
     "name": "stdout",
     "output_type": "stream",
     "text": [
      "Видео обработано: 567\n",
      "Комментариев получено: 56700\n"
     ]
    }
   ],
   "source": [
    "print('Видео обработано: %d' % len(li))\n",
    "print('Комментариев получено: %d' % (len(li) * 100))"
   ]
  },
  {
   "cell_type": "code",
   "execution_count": null,
   "metadata": {},
   "outputs": [],
   "source": []
  }
 ],
 "metadata": {
  "kernelspec": {
   "display_name": "Python 3",
   "language": "python",
   "name": "python3"
  },
  "language_info": {
   "codemirror_mode": {
    "name": "ipython",
    "version": 3
   },
   "file_extension": ".py",
   "mimetype": "text/x-python",
   "name": "python",
   "nbconvert_exporter": "python",
   "pygments_lexer": "ipython3",
   "version": "3.7.3"
  }
 },
 "nbformat": 4,
 "nbformat_minor": 2
}
